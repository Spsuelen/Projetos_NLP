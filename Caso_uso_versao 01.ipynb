{
  "nbformat": 4,
  "nbformat_minor": 0,
  "metadata": {
    "colab": {
      "provenance": []
    },
    "kernelspec": {
      "name": "python3",
      "display_name": "Python 3"
    },
    "language_info": {
      "name": "python"
    }
  },
  "cells": [
    {
      "cell_type": "code",
      "execution_count": null,
      "metadata": {
        "id": "lWpoVwZNOtTf"
      },
      "outputs": [],
      "source": [
        "import nltk\n",
        "from nltk.tokenize import word_tokenize\n",
        "from nltk.corpus import stopwords\n",
        "from nltk.stem import WordNetLemmatizer\n",
        "from nltk.probability import FreqDist\n",
        "import string"
      ]
    },
    {
      "cell_type": "code",
      "source": [
        "class ProcessadorCasosUso:\n",
        "    def __init__(self):\n",
        "        nltk.download('punkt')\n",
        "        nltk.download('stopwords')\n",
        "        nltk.download('wordnet')\n",
        "        self.lemmatizer = WordNetLemmatizer()\n",
        "        self.stop_words = set(stopwords.words('portuguese'))\n",
        "\n",
        "    def processar_casos_uso(self, casos_uso):\n",
        "        resultados = []\n",
        "        for caso_uso in casos_uso:\n",
        "            descricao, fluxo_basico, fluxo_alternativo = self.extract_info(caso_uso)\n",
        "            tokens = self.tokenize_and_clean_text(descricao)\n",
        "            freq_dist = FreqDist(tokens)\n",
        "            resultados.append((descricao, freq_dist))\n",
        "        return resultados\n",
        "\n",
        "    def extract_info(self, caso_uso):\n",
        "      partes = caso_uso.split('Descrição:')\n",
        "      descricao, fluxos = partes[1].split('Fluxo Básico:')\n",
        "      fluxo_basico, fluxo_alternativo = fluxos.split('Fluxo Alternativo:')\n",
        "      return descricao.strip(), fluxo_basico.strip(), fluxo_alternativo.strip()\n",
        "\n",
        "    def tokenize_and_clean_text(self, text):\n",
        "        tokens = word_tokenize(text)\n",
        "        tokens = [token.lower() for token in tokens if token not in string.punctuation]\n",
        "        tokens = [token for token in tokens if token not in self.stop_words]\n",
        "        tokens = [self.lemmatizer.lemmatize(token) for token in tokens]\n",
        "        return tokens"
      ],
      "metadata": {
        "id": "kTT5-_SHP47j"
      },
      "execution_count": null,
      "outputs": []
    },
    {
      "cell_type": "code",
      "source": [
        "casos_uso = [\n",
        "    \"\"\"\n",
        "    User case (UC 01) - Facilitar a inclusão de requisitos na ferramenta.\n",
        "    Descrição: Este caso de uso descreve o processo de facilitar a inclusão de requisitos na ferramenta DRL-Mobtest para criar casos de teste de forma eficiente e sem a necessidade de inserção manual.\n",
        "    Ator Principal: Testador.\n",
        "    Fluxo Básico:\n",
        "    1. O Testador acessa a ferramenta.\n",
        "    2. O Testador seleciona a opção de inclusão de requisitos.\n",
        "    3. O Testador insere os requisitos do aplicativo de forma simplificada.\n",
        "    4. A ferramenta gera automaticamente casos de teste com base nos requisitos inseridos.\n",
        "    Fluxo Alternativo: Se a inclusão de requisitos falhar, o sistema exibirá uma mensagem de erro e permitirá que o Testador tente novamente.\n",
        "    \"\"\",\n",
        "    \"\"\"\n",
        "    User case (UC 02) - Ensinar a ferramenta a entender requisitos usando NLP:\n",
        "    Descrição: Este caso de uso descreve o processo de ensinar a ferramenta  a entender os requisitos do aplicativo usando Processamento de Linguagem Natural (NLP), permitindo a geração automática de testes.\n",
        "    Ator Principal: Testador.\n",
        "    Fluxo Básico:\n",
        "    1. O Testador acessa a ferramenta\n",
        "    2. O Testador seleciona a opção de treinamento com NLP.\n",
        "    3. O Testador fornece exemplos de requisitos e suas correspondentes ações de teste.\n",
        "    4. A ferramenta utiliza técnicas de NLP para aprender e entender os requisitos.\n",
        "    Fluxo Alternativo: Se o treinamento com NLP falhar, o sistema exibirá uma mensagem de erro e permitirá que o Testador tente novamente.\n",
        "    \"\"\"\n",
        "]"
      ],
      "metadata": {
        "id": "kb7p7LAQP8e5"
      },
      "execution_count": null,
      "outputs": []
    },
    {
      "cell_type": "code",
      "source": [
        "processador = ProcessadorCasosUso()\n",
        "resultados = processador.processar_casos_uso(casos_uso)"
      ],
      "metadata": {
        "colab": {
          "base_uri": "https://localhost:8080/"
        },
        "id": "uxKhMgUIP_4Z",
        "outputId": "935fb0e3-c17c-4bd2-c093-14de0d587f7c"
      },
      "execution_count": null,
      "outputs": [
        {
          "output_type": "stream",
          "name": "stderr",
          "text": [
            "[nltk_data] Downloading package punkt to /root/nltk_data...\n",
            "[nltk_data]   Unzipping tokenizers/punkt.zip.\n",
            "[nltk_data] Downloading package stopwords to /root/nltk_data...\n",
            "[nltk_data]   Unzipping corpora/stopwords.zip.\n",
            "[nltk_data] Downloading package wordnet to /root/nltk_data...\n"
          ]
        }
      ]
    },
    {
      "cell_type": "code",
      "source": [
        "for i, (descricao, freq_dist) in enumerate(resultados):\n",
        "    print(f\"Caso de Uso {i+1}:\")\n",
        "    print(\"Descrição:\", descricao)\n",
        "    print(\"5 palavras mais comuns:\", freq_dist.most_common(5))\n",
        "    print()"
      ],
      "metadata": {
        "colab": {
          "base_uri": "https://localhost:8080/"
        },
        "id": "uXVjfgicQOW6",
        "outputId": "5364783d-c015-4631-9f84-aa3d15c1fa81"
      },
      "execution_count": null,
      "outputs": [
        {
          "output_type": "stream",
          "name": "stdout",
          "text": [
            "Caso de Uso 1:\n",
            "Descrição: Este caso de uso descreve o processo de facilitar a inclusão de requisitos na ferramenta DRL-Mobtest para criar casos de teste de forma eficiente e sem a necessidade de inserção manual.\n",
            "    Ator Principal: Testador.\n",
            "5 palavras mais comuns: [('caso', 1), ('uso', 1), ('descreve', 1), ('processo', 1), ('facilitar', 1)]\n",
            "\n",
            "Caso de Uso 2:\n",
            "Descrição: Este caso de uso descreve o processo de ensinar a ferramenta  a entender os requisitos do aplicativo usando Processamento de Linguagem Natural (NLP), permitindo a geração automática de testes.\n",
            "    Ator Principal: Testador.\n",
            "5 palavras mais comuns: [('caso', 1), ('uso', 1), ('descreve', 1), ('processo', 1), ('ensinar', 1)]\n",
            "\n"
          ]
        }
      ]
    }
  ]
}